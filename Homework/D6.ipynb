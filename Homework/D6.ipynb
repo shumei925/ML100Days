{
 "cells": [
  {
   "cell_type": "markdown",
   "metadata": {
    "id": "P6xk2_jLsvFF"
   },
   "source": [
    "# [作業目標]\n",
    "\n",
    "1. [簡答題] 請問下列這三種方法有什麼不同？\n",
    "\n",
    "```\n",
    "print(a.sum()) \n",
    "print(np.sum(a))\n",
    "print(sum(a)) \n",
    "```\n",
    "\n",
    "2. 請對一個 5x5 的隨機矩陣作正規化的操作。\n",
    "\n",
    "3. 請建立一個長度等於 10 的正整數向量，並且將其中的最大值改成 -1。\n"
   ]
  },
  {
   "cell_type": "markdown",
   "metadata": {
    "id": "uXGll28asvFS"
   },
   "source": [
    "# 作業 "
   ]
  },
  {
   "cell_type": "markdown",
   "metadata": {
    "id": "lbz8VjL6jxyL"
   },
   "source": [
    "### 1. [簡答題] 請問下列這三種方法有什麼不同？\n",
    "\n",
    "```\n",
    "print(a.sum()) \n",
    "print(np.sum(a))\n",
    "print(sum(a)) \n",
    "```\n",
    "\n"
   ]
  },
  {
   "cell_type": "code",
   "execution_count": 49,
   "metadata": {
    "id": "5QrYoyNWsvFS",
    "outputId": "e9e14d36-38ce-4ce5-edf2-3c7b129db580"
   },
   "outputs": [
    {
     "name": "stdout",
     "output_type": "stream",
     "text": [
      "Original:\n",
      "[0 1 2 3 4 5]\n",
      "Test:\n",
      "15\n",
      "15\n",
      "15\n",
      "Original:\n",
      "[[0 1 2]\n",
      " [3 4 5]\n",
      " [6 7 8]]\n",
      "Test:\n",
      "36\n",
      "36\n",
      "[ 9 12 15]\n"
     ]
    }
   ],
   "source": [
    "import numpy as np\n",
    "\n",
    "a = np.arange(6)\n",
    "print('Original:')\n",
    "print(a)\n",
    "\n",
    "print('Test:')\n",
    "print(a.sum()) \n",
    "print(np.sum(a))\n",
    "print(sum(a))\n",
    "\n",
    "b = np.arange(9).reshape((3, 3))\n",
    "print('Original:')\n",
    "print(b)\n",
    "\n",
    "print('Test:')\n",
    "print(b.sum())      # 所有元素相加\n",
    "print(np.sum(b))    # 所有元素相加\n",
    "print(sum(b))       # 同一column相加，回傳 axis=0 的總合"
   ]
  },
  {
   "cell_type": "markdown",
   "metadata": {
    "id": "vVrjBXabjxyS"
   },
   "source": [
    "### 2. 請對一個 5x5 的隨機矩陣作正規化的操作。\n"
   ]
  },
  {
   "cell_type": "code",
   "execution_count": 50,
   "metadata": {
    "id": "e1gVI0tvsvFY",
    "outputId": "43bf676f-fd04-4edf-c062-b5fe7fe1f4bf"
   },
   "outputs": [
    {
     "name": "stdout",
     "output_type": "stream",
     "text": [
      "Original:\n",
      "[[0.83677021 0.53790522 0.15486165 0.5680829  0.40647717]\n",
      " [0.72301123 0.86883757 0.96532772 0.75454362 0.74988046]\n",
      " [0.60203085 0.55927267 0.27940622 0.04190708 0.13456173]\n",
      " [0.63708951 0.2209762  0.32302955 0.10085404 0.27095281]\n",
      " [0.23192073 0.34956723 0.88806513 0.74255611 0.59748359]]\n",
      "After Normalization:\n",
      "[[0.8607812  0.53713131 0.12232191 0.56981164 0.39480392]\n",
      " [0.73758818 0.89550791 1.         0.77173556 0.76668568]\n",
      " [0.60657489 0.56027077 0.25719496 0.         0.10033851]\n",
      " [0.64454096 0.19391934 0.30443598 0.06383544 0.24804052]\n",
      " [0.2057715  0.33317444 0.91633001 0.75875392 0.60165052]]\n"
     ]
    }
   ],
   "source": [
    "import numpy as np\n",
    "a = np.random.random((5, 5))\n",
    "print('Original:')\n",
    "print(a)\n",
    "\n",
    "# 資料的正規化是將原始資料的數據按比例縮放於 [0, 1] 區間中，且不改變其原本分佈。\n",
    "normala = (a-a.min())/(a.max()-a.min())\n",
    "\n",
    "print('After Normalization:')\n",
    "print(normala)"
   ]
  },
  {
   "cell_type": "markdown",
   "metadata": {
    "id": "Ptc3ZrNQjxyU"
   },
   "source": [
    "### 3. 請建立一個長度等於 10 的正整數向量，並且將其中的最大值改成 -1。\n"
   ]
  },
  {
   "cell_type": "code",
   "execution_count": 51,
   "metadata": {
    "id": "Yu1kbLxojxyU",
    "outputId": "d323e754-178a-46ae-e15e-98275ae220dd"
   },
   "outputs": [
    {
     "name": "stdout",
     "output_type": "stream",
     "text": [
      "Original Data:\n",
      "[95 14  4 42 88 41 87 30 85 35]\n",
      "Maximum:\n",
      "95\n",
      "Location of Max:\n",
      "0\n",
      "Update Data:\n",
      "[-1 14  4 42 88 41 87 30 85 35]\n"
     ]
    }
   ],
   "source": [
    "import numpy as np\n",
    "\n",
    "a = np.random.randint(1,100,10)\n",
    "print('Original Data:')\n",
    "print(a)\n",
    "\n",
    "print('Maximum:')\n",
    "print(np.max(a))\n",
    "\n",
    "print('Location of Max:')\n",
    "print(np.argmax(a))\n",
    "\n",
    "a[np.argmax(a)] = -1\n",
    "print('Update Data:')\n",
    "print(a)"
   ]
  }
 ],
 "metadata": {
  "colab": {
   "name": "06 Homework_維元.ipynb",
   "provenance": []
  },
  "kernelspec": {
   "display_name": "Python 3",
   "language": "python",
   "name": "python3"
  },
  "language_info": {
   "codemirror_mode": {
    "name": "ipython",
    "version": 3
   },
   "file_extension": ".py",
   "mimetype": "text/x-python",
   "name": "python",
   "nbconvert_exporter": "python",
   "pygments_lexer": "ipython3",
   "version": "3.8.5"
  }
 },
 "nbformat": 4,
 "nbformat_minor": 1
}
