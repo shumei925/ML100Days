{
 "cells": [
  {
   "cell_type": "markdown",
   "metadata": {
    "id": "i9iZ2230aW84"
   },
   "source": [
    "作業目標:<br>\n",
    "1. 熟悉索引與欄位設定\n",
    "2. 使用樞紐建立新資料"
   ]
  },
  {
   "cell_type": "markdown",
   "metadata": {
    "id": "VhzIqUcIY99e"
   },
   "source": [
    "作業重點:<br>\n",
    "1. 多維度索引、欄位是有順序性的須注意\n",
    "2. 使用樞紐建立資料需要注意參數<br>\n",
    "  index : 新資料的索引名稱<br>\n",
    "  columns : 新資料的欄位名稱<br>\n",
    "  values :新資料的值名稱\n"
   ]
  },
  {
   "cell_type": "markdown",
   "metadata": {
    "id": "lqcrvsyOaaaR"
   },
   "source": [
    "題目: 運用下列分數資料重新建構資料，將索引(index)依序改為sex、class、student_id，欄位依序改成chinese_score、english_score、math_score<br><br>\n",
    "score_df = pd.DataFrame([[1,50,80,70,'boy',1],[2,60,45,50,'boy',2],[3,98,43,55,'boy',1],[4,70,69,89,'boy',2],[5,56,79,60,'girl',1],[6,60,68,55,'girl',2],[7,45,70,77,'girl',1],[8,55,77,76,'girl',2],[9,25,57,60,'girl',1],[10,88,40,43,'girl',3],[11,25,60,45,'boy',3],[12,80,60,23,'boy',3],[13,20,90,66,'girl',3],[14,50,50,50,'girl',3],[15,89,67,77,'girl',3]],columns=['student_id','math_score','english_score','chinese_score','sex','class'])\n"
   ]
  },
  {
   "cell_type": "code",
   "execution_count": null,
   "metadata": {
    "id": "GJVSUJ4zaZTj"
   },
   "outputs": [],
   "source": [
    "import pandas as pd\n",
    "import numpy as np\n",
    "score_df = pd.DataFrame([[1,50,80,70,'boy',1],[2,60,45,50,'boy',2],[3,98,43,55,'boy',1],[4,70,69,89,'boy',2],[5,56,79,60,'girl',1],[6,60,68,55,'girl',2],[7,45,70,77,'girl',1],[8,55,77,76,'girl',2],[9,25,57,60,'girl',1],[10,88,40,43,'girl',3],[11,25,60,45,'boy',3],[12,80,60,23,'boy',3],[13,20,90,66,'girl',3],[14,50,50,50,'girl',3],[15,89,67,77,'girl',3]],columns=['student_id','math_score','english_score','chinese_score','sex','class'])"
   ]
  },
  {
   "cell_type": "code",
   "execution_count": null,
   "metadata": {
    "id": "sXolLlu6a_8F"
   },
   "outputs": [],
   "source": [
    "#將索引(index)依序改為sex、class、student_id，欄位依序改成chinese_score、english_score、math_score"
   ]
  },
  {
   "cell_type": "code",
   "execution_count": null,
   "metadata": {
    "id": "6005fVVybA_9"
   },
   "outputs": [],
   "source": []
  },
  {
   "cell_type": "code",
   "execution_count": null,
   "metadata": {},
   "outputs": [],
   "source": []
  },
  {
   "cell_type": "code",
   "execution_count": null,
   "metadata": {},
   "outputs": [],
   "source": []
  },
  {
   "cell_type": "code",
   "execution_count": null,
   "metadata": {},
   "outputs": [],
   "source": []
  },
  {
   "cell_type": "markdown",
   "metadata": {},
   "source": [
    "# "
   ]
  },
  {
   "cell_type": "code",
   "execution_count": null,
   "metadata": {},
   "outputs": [],
   "source": [
    "# 導入 pandas\n",
    "import pandas as pd\n",
    "\n",
    "# 設定給以下 dataframe 的索引名稱\n",
    "multicol1 = pd.MultiIndex.from_tuples([('weight', 'kg'),\n",
    "                                       ('weight', 'pounds')])\n",
    "\n",
    "# 創建我們的範例 dataframe\n",
    "df_multi_level_cols1 = pd.DataFrame([[1, 2], [2, 4]],\n",
    "                                    index=['cat', 'dog'],\n",
    "                                    columns=multicol1)\n",
    "df_multi_level_cols1"
   ]
  }
 ],
 "metadata": {
  "colab": {
   "collapsed_sections": [],
   "name": "作業題目.ipynb",
   "provenance": []
  },
  "kernelspec": {
   "display_name": "Python 3",
   "language": "python",
   "name": "python3"
  },
  "language_info": {
   "codemirror_mode": {
    "name": "ipython",
    "version": 3
   },
   "file_extension": ".py",
   "mimetype": "text/x-python",
   "name": "python",
   "nbconvert_exporter": "python",
   "pygments_lexer": "ipython3",
   "version": "3.8.5"
  }
 },
 "nbformat": 4,
 "nbformat_minor": 1
}
