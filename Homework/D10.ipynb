{
 "cells": [
  {
   "cell_type": "markdown",
   "metadata": {
    "colab_type": "text",
    "id": "P6xk2_jLsvFF"
   },
   "source": [
    "# [作業目標]\n",
    "\n",
    "1. [簡答題] 請問下列四種不同的 DataFrame 選取結果有什麼差異？\n",
    "\n",
    "```\n",
    "df.loc[ '2013-01-01', 'A'] \n",
    "df.loc[ '2013-01-01', ['A', 'B'] ] \n",
    "df.loc[ '2013-01-01':'2013-01-02', 'A' ] \n",
    "df.loc[ '2013-01-01':'2013-01-05', 'A':'C'] \n",
    "```\n",
    "\n",
    "\n",
    "2. 請根據提供的資料，選擇出下列的要求：\n",
    "\n",
    "```\n",
    "# - select the first 3 rows.\n",
    "# - select the odd rows. (index = 1, 3, 5)\n",
    "# - select the last 2 columns.\n",
    "# - select the even columns. (index = 0, 2, 4)\n",
    "```\n",
    "\n",
    "3. 請根據提供的資料，選擇出下列的要求：\n",
    "\n",
    "```\n",
    "# - 1. filtered by first column > 20?\n",
    "# - 2. filtered by first column + second column > 50\n",
    "# - 3. filtered by first column < 30 or second column > 30\n",
    "# - 4. filtered by total sum of row > 100\n",
    "```"
   ]
  },
  {
   "cell_type": "markdown",
   "metadata": {
    "colab_type": "text",
    "id": "uXGll28asvFS"
   },
   "source": [
    "# 作業 "
   ]
  },
  {
   "cell_type": "markdown",
   "metadata": {},
   "source": [
    "### 1. [簡答題] 請問下列四種不同的 DataFrame 選取結果有什麼差異？\n",
    "\n",
    "```\n",
    "df.loc[ '2013-01-01', 'A'] \n",
    "df.loc[ '2013-01-01', ['A', 'B'] ] \n",
    "df.loc[ '2013-01-01':'2013-01-02', 'A' ] \n",
    "df.loc[ '2013-01-01':'2013-01-05', 'A':'C'] \n",
    "```\n",
    "\n",
    "\n",
    "\n"
   ]
  },
  {
   "cell_type": "code",
   "execution_count": 14,
   "metadata": {
    "colab": {},
    "colab_type": "code",
    "id": "5QrYoyNWsvFS"
   },
   "outputs": [
    {
     "name": "stdout",
     "output_type": "stream",
     "text": [
      "             A   B   C\n",
      "2013-01-01   1   2   3\n",
      "2013-01-02   4   5   6\n",
      "2013-01-03   7   8   9\n",
      "2013-01-04  10  11  12\n",
      "2013-01-05  13  14  15\n",
      " \n",
      "1\n",
      " \n",
      "A    1\n",
      "B    2\n",
      "Name: 2013-01-01, dtype: int64\n",
      " \n",
      "2013-01-01    1\n",
      "2013-01-02    4\n",
      "Name: A, dtype: int64\n",
      " \n",
      "             A   B   C\n",
      "2013-01-01   1   2   3\n",
      "2013-01-02   4   5   6\n",
      "2013-01-03   7   8   9\n",
      "2013-01-04  10  11  12\n",
      "2013-01-05  13  14  15\n"
     ]
    }
   ],
   "source": [
    "import pandas as pd\n",
    "\n",
    "df = pd.DataFrame([[1,2,3],[4,5,6],[7,8,9],[10,11,12],[13,14,15]],\n",
    "                  index = ['2013-01-01','2013-01-02','2013-01-03','2013-01-04','2013-01-05'],\n",
    "                  columns =['A','B','C'])\n",
    "\n",
    "print(df)\n",
    "print(' ')\n",
    "print(df.loc[ '2013-01-01', 'A'] )\n",
    "print(' ')\n",
    "print(df.loc[ '2013-01-01', ['A', 'B'] ])\n",
    "print(' ')\n",
    "print(df.loc[ '2013-01-01':'2013-01-02', 'A' ]) \n",
    "print(' ')\n",
    "print(df.loc[ '2013-01-01':'2013-01-05', 'A':'C']) "
   ]
  },
  {
   "cell_type": "markdown",
   "metadata": {},
   "source": [
    "### 2. 請根據提供的資料，選擇出下列的要求：\n",
    "\n",
    "```\n",
    "# - select the first 3 rows.\n",
    "# - select the odd rows. (index = 1, 3, 5)\n",
    "# - select the last 2 columns.\n",
    "# - select the even columns. (index = 0, 2, 4)\n",
    "```\n"
   ]
  },
  {
   "cell_type": "code",
   "execution_count": 42,
   "metadata": {
    "colab": {},
    "colab_type": "code",
    "id": "e1gVI0tvsvFY"
   },
   "outputs": [
    {
     "name": "stdout",
     "output_type": "stream",
     "text": [
      "       col1      col2      col3\n",
      "0  0.493786  0.932046 -0.934754\n",
      "1 -1.455392 -0.365809  0.434360\n",
      "2  2.183681  2.005165 -1.011234\n",
      "3  0.205797 -0.996167 -0.230265\n",
      "4 -0.236112 -0.620108  0.296280\n",
      "5  0.033261  2.179031  1.176499\n",
      " \n",
      "       col1      col2      col3\n",
      "0  0.493786  0.932046 -0.934754\n",
      "1 -1.455392 -0.365809  0.434360\n",
      "2  2.183681  2.005165 -1.011234\n",
      " \n",
      "       col1      col2      col3\n",
      "1 -1.455392 -0.365809  0.434360\n",
      "3  0.205797 -0.996167 -0.230265\n",
      "5  0.033261  2.179031  1.176499\n",
      " \n",
      "       col2      col3\n",
      "0  0.932046 -0.934754\n",
      "1 -0.365809  0.434360\n",
      "2  2.005165 -1.011234\n",
      "3 -0.996167 -0.230265\n",
      "4 -0.620108  0.296280\n",
      "5  2.179031  1.176499\n",
      " \n",
      "       col2\n",
      "0  0.932046\n",
      "1 -0.365809\n",
      "2  2.005165\n",
      "3 -0.996167\n",
      "4 -0.620108\n",
      "5  2.179031\n"
     ]
    }
   ],
   "source": [
    "import numpy as np\n",
    "import pandas as pd\n",
    "df = pd.DataFrame(np.random.randn(6,3),columns=['col1','col2','col3'])\n",
    "print(df)\n",
    "print(' ')\n",
    "\n",
    "print(df[0:3])\n",
    "print(' ')\n",
    "\n",
    "print(df.loc[[1,3,5]])\n",
    "print(' ')\n",
    "\n",
    "print(df[df.columns[-2:]])\n",
    "print(' ')\n",
    "\n",
    "print(df[['col2']])"
   ]
  },
  {
   "cell_type": "markdown",
   "metadata": {},
   "source": [
    "### 3. 請根據提供的資料，選擇出下列的要求：\n",
    "\n",
    "```\n",
    "# - 1. filtered by first column > 20?\n",
    "# - 2. filtered by first column + second column > 50\n",
    "# - 3. filtered by first column < 30 or second column > 30\n",
    "# - 4. filtered by total sum of row > 100\n",
    "```"
   ]
  },
  {
   "cell_type": "code",
   "execution_count": 50,
   "metadata": {},
   "outputs": [
    {
     "name": "stdout",
     "output_type": "stream",
     "text": [
      "     0   1   2   3\n",
      "0   16  31  26  38\n",
      "1   34  10  22  32\n",
      "2   30  21  13  19\n",
      "3   11  24  24  29\n",
      "4   38  15  23  25\n",
      "5   18  12  14  20\n",
      "6   26  12  19  16\n",
      "7   19  12  39  23\n",
      "8   22  26  29  20\n",
      "9   12  15  37  33\n",
      "10  33  13  31  23\n",
      "11  24  33  25  15\n",
      "12  17  32  22  11\n",
      "13  15  32  26  25\n",
      "14  39  20  18  20\n",
      " \n",
      "     0   1   2   3\n",
      "1   34  10  22  32\n",
      "2   30  21  13  19\n",
      "4   38  15  23  25\n",
      "6   26  12  19  16\n",
      "8   22  26  29  20\n",
      "10  33  13  31  23\n",
      "11  24  33  25  15\n",
      "14  39  20  18  20\n",
      " \n",
      "     0   1   2   3\n",
      "2   30  21  13  19\n",
      "4   38  15  23  25\n",
      "11  24  33  25  15\n",
      "14  39  20  18  20\n",
      " \n",
      "     0   1   2   3\n",
      "0   16  31  26  38\n",
      "3   11  24  24  29\n",
      "5   18  12  14  20\n",
      "6   26  12  19  16\n",
      "7   19  12  39  23\n",
      "8   22  26  29  20\n",
      "9   12  15  37  33\n",
      "11  24  33  25  15\n",
      "12  17  32  22  11\n",
      "13  15  32  26  25\n",
      " \n",
      "    0   1   2   3\n",
      "0  16  31  26  38\n",
      "4  38  15  23  25\n"
     ]
    }
   ],
   "source": [
    "import numpy as np\n",
    "import pandas as pd\n",
    "df = pd.DataFrame(np.random.randint(10, 40, 60).reshape(-1, 4))\n",
    "print(df)\n",
    "print(' ')\n",
    "\n",
    "print(df[df[0]>20]) # filtered by first column > 2\n",
    "print(' ')\n",
    "\n",
    "print(df[df[0]+df[1]>50])  # filtered by first column + second column > 50\n",
    "print(' ')\n",
    "\n",
    "print(df[(df.iloc[:,0] < 30) | (df.iloc[:,1] > 30)])   # filtered by first column < 30 or second column > 3\n",
    "print(' ')\n",
    "\n",
    "print(df[df.sum(axis = 1)>100])"
   ]
  },
  {
   "cell_type": "code",
   "execution_count": null,
   "metadata": {},
   "outputs": [],
   "source": []
  },
  {
   "cell_type": "code",
   "execution_count": null,
   "metadata": {},
   "outputs": [],
   "source": []
  },
  {
   "cell_type": "code",
   "execution_count": null,
   "metadata": {},
   "outputs": [],
   "source": []
  }
 ],
 "metadata": {
  "colab": {
   "name": "Day_023_HW.ipynb",
   "provenance": []
  },
  "kernelspec": {
   "display_name": "Python 3",
   "language": "python",
   "name": "python3"
  },
  "language_info": {
   "codemirror_mode": {
    "name": "ipython",
    "version": 3
   },
   "file_extension": ".py",
   "mimetype": "text/x-python",
   "name": "python",
   "nbconvert_exporter": "python",
   "pygments_lexer": "ipython3",
   "version": "3.8.5"
  }
 },
 "nbformat": 4,
 "nbformat_minor": 1
}
