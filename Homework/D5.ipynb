{
 "cells": [
  {
   "cell_type": "markdown",
   "metadata": {
    "colab_type": "text",
    "id": "P6xk2_jLsvFF"
   },
   "source": [
    "# [作業目標]\n",
    "\n",
    "1. 產生一個 1-11 的一維陣列，並且把 3-6 由正數變成負數。\n",
    "2. 試著從一個隨機陣列中，找出比 0.5 大的數有幾個？\n",
    "\n"
   ]
  },
  {
   "cell_type": "markdown",
   "metadata": {
    "colab_type": "text",
    "id": "uXGll28asvFS"
   },
   "source": [
    "# 作業 "
   ]
  },
  {
   "cell_type": "markdown",
   "metadata": {},
   "source": [
    "### 1. 產生一個 1-11 的一維陣列，並且把 3-6 由正數變成負數。\n",
    "\n"
   ]
  },
  {
   "cell_type": "code",
   "execution_count": 23,
   "metadata": {},
   "outputs": [
    {
     "name": "stdout",
     "output_type": "stream",
     "text": [
      "[ 1  2  3  4  5  6  7  8  9 10 11]\n",
      "[ 1  2  3  4  5  6  7  8  9 10 11]\n",
      "[ 1  2 -3 -4 -5 -6  7  8  9 10 11]\n"
     ]
    }
   ],
   "source": [
    "import numpy as np\n",
    "\n",
    "a = np.arange(1,12,1)\n",
    "print(a)\n",
    "print(a[ [ True,True,True,True,True,True,True,True,True,True,True]])\n",
    "          \n",
    "          \n",
    "a[(a>=3) & (a<=6)] *=-1\n",
    "print(a)"
   ]
  },
  {
   "cell_type": "markdown",
   "metadata": {},
   "source": [
    "### 2. 試著從一個隨機陣列中，找出比 0.5 大的數有幾個？\n",
    "\n"
   ]
  },
  {
   "cell_type": "code",
   "execution_count": 18,
   "metadata": {
    "colab": {},
    "colab_type": "code",
    "id": "e1gVI0tvsvFY"
   },
   "outputs": [
    {
     "name": "stdout",
     "output_type": "stream",
     "text": [
      "[[False False  True False False  True]\n",
      " [ True  True  True False False False]\n",
      " [ True  True  True  True False False]]\n",
      "[0.5688776  0.85992547 0.50993651 0.98747638 0.54353565 0.70679114\n",
      " 0.52860174 0.85289626 0.95068796]\n",
      "9\n"
     ]
    }
   ],
   "source": [
    "A = np.random.rand(3, 6)\n",
    "\n",
    "print(A > 0.5)\n",
    "print(A[ A> 0.5])\n",
    "print(A[ A> 0.5].size)"
   ]
  }
 ],
 "metadata": {
  "colab": {
   "name": "Day_023_HW.ipynb",
   "provenance": []
  },
  "kernelspec": {
   "display_name": "Python 3",
   "language": "python",
   "name": "python3"
  },
  "language_info": {
   "codemirror_mode": {
    "name": "ipython",
    "version": 3
   },
   "file_extension": ".py",
   "mimetype": "text/x-python",
   "name": "python",
   "nbconvert_exporter": "python",
   "pygments_lexer": "ipython3",
   "version": "3.8.5"
  }
 },
 "nbformat": 4,
 "nbformat_minor": 1
}
