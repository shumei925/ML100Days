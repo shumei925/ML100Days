{
 "cells": [
  {
   "cell_type": "markdown",
   "metadata": {
    "colab_type": "text",
    "id": "P6xk2_jLsvFF"
   },
   "source": [
    "# [作業目標]\n",
    "\n",
    "1. 請建立類似提供結果的 DataFrame：\n",
    "\n",
    "```\n",
    "#    Apples  Bananas\n",
    "# 0      30       21\n",
    "\n",
    "#             Apples  Bananas\n",
    "# 2017 Sales      35       21\n",
    "# 2018 Sales      41       34\n",
    "\n",
    "```\n",
    "\n",
    "2. 請問如果現在有一個 DataFrame 如下，請問資料在 Python 中可能長怎樣？\n",
    "\n",
    "```\n",
    "#      city  visitor weekday\n",
    "# 0  Austin      139     Sun\n",
    "# 1  Dallas      237     Sun\n",
    "# 2  Austin      326     Mon\n",
    "# 3  Dallas      456     Mon\n",
    "```\n",
    "\n",
    "3. 假設你想知道每個 weekday 的平均 visitor 數量，可以怎麼做？\n"
   ]
  },
  {
   "cell_type": "markdown",
   "metadata": {
    "colab_type": "text",
    "id": "uXGll28asvFS"
   },
   "source": [
    "# 作業 "
   ]
  },
  {
   "cell_type": "markdown",
   "metadata": {},
   "source": [
    "### 1. 請建立類似提供結果的 DataFrame：\n",
    "\n",
    "```\n",
    "#    Apples  Bananas\n",
    "# 0      30       21\n",
    "\n",
    "#             Apples  Bananas\n",
    "# 2017 Sales      35       21\n",
    "# 2018 Sales      41       34\n",
    "\n",
    "```\n",
    "\n"
   ]
  },
  {
   "cell_type": "code",
   "execution_count": 14,
   "metadata": {
    "scrolled": true
   },
   "outputs": [
    {
     "name": "stdout",
     "output_type": "stream",
     "text": [
      "0    30\n",
      "1    21\n",
      "dtype: int64\n",
      " \n",
      "                  \n",
      "0  Apples  Bananas\n",
      "1      30       21\n",
      " \n",
      "            Apples  Bananas\n",
      "2017 sales      35       21\n",
      "2018 sales      41       34\n"
     ]
    }
   ],
   "source": [
    "import pandas as pd\n",
    "a = pd.Series([30,21])         \n",
    "print(a)               # Series是直條狀\n",
    "print(' ')\n",
    "\n",
    "b = pd.DataFrame([['Apples','Bananas'],[30, 21]],columns = [' ',' '])     \n",
    "print(b)\n",
    "print(' ')            # 費工\n",
    "\n",
    "s = pd.DataFrame([[35,21],[41,34]],index = ['2017 sales', '2018 sales'],columns = ['Apples','Bananas'])\n",
    "print(s)\n"
   ]
  },
  {
   "cell_type": "code",
   "execution_count": 21,
   "metadata": {},
   "outputs": [
    {
     "name": "stdout",
     "output_type": "stream",
     "text": [
      "   Apples  Bananas\n",
      "0      30       21\n",
      "            Apples  Bananas\n",
      "2017 Sales      35       21\n",
      "2018 Sales      41       34\n"
     ]
    }
   ],
   "source": [
    "# 先列再用DataFrame\n",
    "\n",
    "a = {\"Apples\":[30],\n",
    "     \"Bananas\":[21]\n",
    "    }\n",
    "df = pd.DataFrame(a)\n",
    "\n",
    "\n",
    "sales = {\"Apples\":[35,41],\n",
    "         \"Bananas\":[21,34]\n",
    "        }\n",
    "df2 = pd.DataFrame(sales, index = ['2017 Sales','2018 Sales'])\n",
    "\n",
    "print(df)\n",
    "print(df2)"
   ]
  },
  {
   "cell_type": "markdown",
   "metadata": {},
   "source": [
    "### 2. 請問如果現在有一個 DataFrame 如下，請問資料在 Python 中可能長怎樣？\n",
    "\n",
    "```\n",
    "#      city  visitor weekday\n",
    "# 0  Austin      139     Sun\n",
    "# 1  Dallas      237     Sun\n",
    "# 2  Austin      326     Mon\n",
    "# 3  Dallas      456     Mon\n",
    "```\n",
    "\n"
   ]
  },
  {
   "cell_type": "code",
   "execution_count": 20,
   "metadata": {
    "colab": {},
    "colab_type": "code",
    "id": "e1gVI0tvsvFY"
   },
   "outputs": [
    {
     "name": "stdout",
     "output_type": "stream",
     "text": [
      "     city  visitor weekday\n",
      "0  Austin      139     Sun\n",
      "1  Dallas      237     Sun\n",
      "2  Austin      139     Mon\n",
      "3  Dallas      456     Mon\n",
      "0    Sun\n",
      "1    Sun\n",
      "2    Mon\n",
      "3    Mon\n",
      "Name: weekday, dtype: object 0    139\n",
      "1    237\n",
      "2    139\n",
      "3    456\n",
      "Name: visitor, dtype: int64\n"
     ]
    }
   ],
   "source": [
    "import pandas as pd\n",
    "a = pd.DataFrame([['Austin', 139,'Sun'],['Dallas',237,'Sun'],['Austin',139,'Mon'],['Dallas',456,'Mon']],columns = ['city','visitor','weekday'])\n",
    "print(a)       \n",
    "\n",
    "print(a['weekday'],a['visitor'])  # 無法合併"
   ]
  },
  {
   "cell_type": "markdown",
   "metadata": {},
   "source": [
    "### 3. 承上題，假設你想知道每個 weekday 的平均 visitor 數量，可以怎麼做？\n"
   ]
  },
  {
   "cell_type": "code",
   "execution_count": 32,
   "metadata": {},
   "outputs": [
    {
     "name": "stdout",
     "output_type": "stream",
     "text": [
      "     city  visitor weekday\n",
      "0  Austin      139     Sun\n",
      "1  Dallas      237     Sun\n",
      "2  Austin      326     Mon\n",
      "3  Dallas      456     Mon\n",
      " \n",
      "         visitor\n",
      "weekday         \n",
      "Mon          391\n",
      "Sun          188\n",
      " \n",
      "        visitor\n",
      "city           \n",
      "Austin      465\n",
      "Dallas      693\n"
     ]
    }
   ],
   "source": [
    "import pandas as pd\n",
    "traveler = {\"city\":[\"Austin\",\"Dallas\",\"Austin\",\"Dallas\"],\n",
    "            \"visitor\":[139,237,326,456],\n",
    "            \"weekday\":[\"Sun\",\"Sun\",\"Mon\",\"Mon\"]\n",
    "           }\n",
    "df = pd.DataFrame(traveler)\n",
    "print(df)\n",
    "print(' ')\n",
    "\n",
    "print(df.groupby(\"weekday\").mean(\"visitor\"))\n",
    "print(' ')\n",
    "\n",
    "print(df.groupby('city').sum( 'visitor'))\n"
   ]
  },
  {
   "cell_type": "code",
   "execution_count": null,
   "metadata": {},
   "outputs": [],
   "source": []
  },
  {
   "cell_type": "code",
   "execution_count": null,
   "metadata": {},
   "outputs": [],
   "source": []
  }
 ],
 "metadata": {
  "colab": {
   "name": "Day_023_HW.ipynb",
   "provenance": []
  },
  "kernelspec": {
   "display_name": "Python 3",
   "language": "python",
   "name": "python3"
  },
  "language_info": {
   "codemirror_mode": {
    "name": "ipython",
    "version": 3
   },
   "file_extension": ".py",
   "mimetype": "text/x-python",
   "name": "python",
   "nbconvert_exporter": "python",
   "pygments_lexer": "ipython3",
   "version": "3.8.5"
  }
 },
 "nbformat": 4,
 "nbformat_minor": 1
}
