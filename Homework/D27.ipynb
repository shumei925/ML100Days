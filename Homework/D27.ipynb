{
 "cells": [
  {
   "cell_type": "markdown",
   "metadata": {
    "id": "H-z4L8J371GO"
   },
   "source": [
    "## 作業:\n",
    "今天學到不同統計量之間特性，  \n",
    "試著分析男生女生身高資料，  \n",
    "試著回答下面的問題:  \n",
    "Q1:試著用今天所教的內容，如何描述這兩組資料的樣態?    \n",
    "Q2: 請問男生和女生在平均身高上誰比較高?   \n",
    "Q3:請問第二題的答案和日常生活中觀察的一致嗎? 如果不一致，你覺得原因可能為何?    \n",
    "上述問題透過  python 語法進行運算，\n",
    "並將上述答案填寫在 (google 表單)[https://docs.google.com/forms/d/e/1FAIpQLSdDzwpeJl8YLPwZaW8pBZvtuXY9kIbbZLqxcXyzFaoraV5JEA/viewform ]\n",
    "![](作業資料圖檔.PNG)"
   ]
  },
  {
   "cell_type": "code",
   "execution_count": 22,
   "metadata": {
    "id": "yz28_IgkYdBW"
   },
   "outputs": [],
   "source": [
    "# library\n",
    "import matplotlib.pyplot as plt\n",
    "import numpy as np\n",
    "import pandas as pd\n",
    "from scipy import stats as st\n",
    "import math\n",
    "import statistics\n",
    "import seaborn as sns"
   ]
  },
  {
   "cell_type": "code",
   "execution_count": 23,
   "metadata": {
    "id": "3NtzuWtt71GU",
    "outputId": "be21c4eb-a6c2-4674-aadd-d378bafc0428"
   },
   "outputs": [],
   "source": [
    "## 輸入資料\n",
    "b=np.array([164,175,183,173,176,159,165,165,169,151,156,163,169,144,170,177,165,160,164,171])\n",
    "g=np.array([169,170,162,154,183,173,169,167,170,185,162,175,168,151,181,170,182,156,159,160])"
   ]
  },
  {
   "cell_type": "code",
   "execution_count": 30,
   "metadata": {
    "id": "uDM9AzrY71GW",
    "outputId": "f4e7ede3-fda9-4858-f122-af7c3b3f3ad4"
   },
   "outputs": [
    {
     "name": "stdout",
     "output_type": "stream",
     "text": [
      "男生身高平均 165.95\n",
      "男生身高中位數 165.0\n",
      "男生身高偏度 -0.4713212731737694\n",
      "男生身高峰度 0.19395882957876243\n",
      "女生身高平均 168.3\n",
      "女生身高中位數 169.0\n",
      "女生身高偏度 0.059853211293650746\n",
      "女生身高峰度 -0.8203607083948947\n"
     ]
    }
   ],
   "source": [
    "#Q1:試著用今天所教的內容，如何描述這兩組資料的樣態?\n",
    "#暗示:  分別計算男生和女生的統計量\n",
    "\n",
    "print('男生身高平均',np.mean(b))\n",
    "print('男生身高中位數',np.median(b))\n",
    "print('男生身高偏度',st.skew(b))      # 左偏態\n",
    "print('男生身高峰度',st.kurtosis(b))  # 高闊峰\n",
    "\n",
    "print('女生身高平均',np.mean(g))\n",
    "print('女生身高中位數',np.median(g))\n",
    "print('女生身高偏度',st.skew(g))      # 右偏態\n",
    "print('女生身高峰度',st.kurtosis(g))  # 低闊峰"
   ]
  },
  {
   "cell_type": "code",
   "execution_count": 26,
   "metadata": {
    "id": "xH_GNsC271GW",
    "outputId": "f4b4c46a-0d8b-421c-9c70-0ebf2aab0e31"
   },
   "outputs": [
    {
     "name": "stdout",
     "output_type": "stream",
     "text": [
      "男生身高平均 165.95\n",
      "女生身高平均 168.3\n"
     ]
    }
   ],
   "source": [
    "#Q2: 請問男生和女生在平均身高上誰比較高? \n",
    "print('男生身高平均',np.mean(b))\n",
    "print('女生身高平均',np.mean(g))"
   ]
  },
  {
   "cell_type": "code",
   "execution_count": 28,
   "metadata": {
    "id": "xAzZU0Dv71GX",
    "outputId": "e2017c09-70fc-41ab-99c0-9d41fe21629d"
   },
   "outputs": [
    {
     "name": "stdout",
     "output_type": "stream",
     "text": [
      "樣本太少，不足以代表母體\n"
     ]
    }
   ],
   "source": [
    "#Q3:請問第二題的答案和日常生活中觀察的一致嗎? 如果不一致，你覺得原因可能為何? \n",
    "print('樣本太少，不足以代表母體')"
   ]
  }
 ],
 "metadata": {
  "colab": {
   "collapsed_sections": [],
   "name": "作業.ipynb",
   "provenance": []
  },
  "kernelspec": {
   "display_name": "Python 3",
   "language": "python",
   "name": "python3"
  },
  "language_info": {
   "codemirror_mode": {
    "name": "ipython",
    "version": 3
   },
   "file_extension": ".py",
   "mimetype": "text/x-python",
   "name": "python",
   "nbconvert_exporter": "python",
   "pygments_lexer": "ipython3",
   "version": "3.8.5"
  }
 },
 "nbformat": 4,
 "nbformat_minor": 1
}
