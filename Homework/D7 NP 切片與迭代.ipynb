{
 "cells": [
  {
   "cell_type": "markdown",
   "metadata": {
    "colab_type": "text",
    "id": "P6xk2_jLsvFF"
   },
   "source": [
    "# [作業目標]\n",
    "\n",
    "1. 請比較對一個 100 x 100 * 100 的陣列，使用不同方法對每一個元素 +1 的時間比較。\n",
    "\n",
    "2. 如何從一個陣列中，找出出現頻率最高的數值與位置？\n",
    "\n",
    "3. 如何利用 list(...) 實現 a.tolist() 的效果？試著用程式實作。\n"
   ]
  },
  {
   "cell_type": "markdown",
   "metadata": {
    "colab_type": "text",
    "id": "uXGll28asvFS"
   },
   "source": [
    "# 作業 "
   ]
  },
  {
   "cell_type": "markdown",
   "metadata": {},
   "source": [
    "### 1. 請比較對一個 1000 x 100 x 100 的陣列，使用不同方法對每一個元素 +1 的時間比較。\n",
    "\n",
    "\n"
   ]
  },
  {
   "cell_type": "code",
   "execution_count": 3,
   "metadata": {
    "colab": {},
    "colab_type": "code",
    "id": "5QrYoyNWsvFS"
   },
   "outputs": [
    {
     "name": "stdout",
     "output_type": "stream",
     "text": [
      "[[[9 1 5 ... 3 3 4]\n",
      "  [7 5 0 ... 6 2 8]\n",
      "  [4 3 4 ... 3 1 4]\n",
      "  ...\n",
      "  [4 4 7 ... 7 7 8]\n",
      "  [8 7 7 ... 1 3 7]\n",
      "  [6 7 6 ... 0 7 2]]\n",
      "\n",
      " [[7 6 8 ... 2 1 5]\n",
      "  [8 0 7 ... 3 8 3]\n",
      "  [9 1 3 ... 6 1 0]\n",
      "  ...\n",
      "  [5 4 3 ... 6 6 8]\n",
      "  [0 4 2 ... 2 3 7]\n",
      "  [0 6 8 ... 9 3 6]]\n",
      "\n",
      " [[3 9 0 ... 5 5 0]\n",
      "  [1 4 0 ... 9 8 5]\n",
      "  [6 1 3 ... 6 8 7]\n",
      "  ...\n",
      "  [5 3 4 ... 2 2 2]\n",
      "  [7 5 0 ... 8 2 1]\n",
      "  [7 2 0 ... 4 9 3]]\n",
      "\n",
      " ...\n",
      "\n",
      " [[0 3 7 ... 6 7 1]\n",
      "  [0 7 9 ... 2 8 2]\n",
      "  [4 8 1 ... 4 5 3]\n",
      "  ...\n",
      "  [6 6 5 ... 0 3 3]\n",
      "  [0 0 7 ... 9 1 7]\n",
      "  [9 6 2 ... 2 2 0]]\n",
      "\n",
      " [[3 0 4 ... 5 9 0]\n",
      "  [2 7 9 ... 6 9 3]\n",
      "  [0 6 9 ... 5 3 8]\n",
      "  ...\n",
      "  [6 8 0 ... 1 9 8]\n",
      "  [6 6 1 ... 1 5 4]\n",
      "  [2 2 5 ... 6 3 5]]\n",
      "\n",
      " [[9 5 7 ... 9 6 6]\n",
      "  [6 0 2 ... 7 6 1]\n",
      "  [3 6 7 ... 2 6 6]\n",
      "  ...\n",
      "  [6 6 4 ... 5 2 8]\n",
      "  [6 3 4 ... 8 2 4]\n",
      "  [2 0 2 ... 3 8 2]]]\n"
     ]
    }
   ],
   "source": [
    "import numpy as np\n",
    "Z = np.random.randint(0, 10, 1000000).reshape(100, 100, 100)\n",
    "print(Z)"
   ]
  },
  {
   "cell_type": "code",
   "execution_count": 11,
   "metadata": {},
   "outputs": [
    {
     "name": "stdout",
     "output_type": "stream",
     "text": [
      "62.9 ns ± 15.8 ns per loop (mean ± std. dev. of 7 runs, 10 loops each)\n"
     ]
    }
   ],
   "source": [
    "%timeit -n 10 a = 2\n",
    "\n",
    "for row in Z:\n",
    "        for a in row:\n",
    "            a+=1\n"
   ]
  },
  {
   "cell_type": "code",
   "execution_count": 23,
   "metadata": {
    "scrolled": true
   },
   "outputs": [
    {
     "name": "stdout",
     "output_type": "stream",
     "text": [
      "201 ns ± 71 ns per loop (mean ± std. dev. of 7 runs, 10 loops each)\n"
     ]
    }
   ],
   "source": [
    "%timeit -n 10 a = 2\n",
    "\n",
    "for d in Z.flat:\n",
    "    d+=1"
   ]
  },
  {
   "cell_type": "code",
   "execution_count": 30,
   "metadata": {},
   "outputs": [
    {
     "name": "stdout",
     "output_type": "stream",
     "text": [
      "71.4 ns ± 13.6 ns per loop (mean ± std. dev. of 7 runs, 10 loops each)\n"
     ]
    }
   ],
   "source": [
    "%timeit -n 10 a = 2\n",
    "\n",
    "for d in np.nditer(Z):\n",
    "    d = d+1"
   ]
  },
  {
   "cell_type": "markdown",
   "metadata": {},
   "source": [
    "### 2. 如何從一個陣列中，找出出現頻率最高的數值與位置？\n"
   ]
  },
  {
   "cell_type": "code",
   "execution_count": 60,
   "metadata": {},
   "outputs": [
    {
     "name": "stdout",
     "output_type": "stream",
     "text": [
      "[ 4 11  5 11  1 11  1 12  8  4  7  2  1  2 10  2 10  9  1  3  7  4 11 11\n",
      "  4  6  1  3 10 11  8  4  2  4 11 10  5  6  5  9  7  9  3  5  3  3 12  8\n",
      " 10  2]\n",
      "個數: [0 5 5 5 6 4 2 3 3 3 5 7 2]\n",
      "數值: 11\n",
      "位置: (array([ 1,  3,  5, 22, 23, 29, 34], dtype=int64),)\n"
     ]
    }
   ],
   "source": [
    "import numpy as np\n",
    "Z = np.random.randint(1,13,50) # 1-12間隨機產生50個正整數\n",
    "print(Z)\n",
    "\n",
    "count = np.bincount(Z)         # np.bincount: 依序列出0-12的個數\n",
    "print('個數:',count)\n",
    "number = np.argmax(count)      # np.argmax: 指出個數中最大值的位置，剛好對應數字本身\n",
    "print('數值:',number)\n",
    "print('位置:',np.where(Z == number))         # np.where: 標示位置"
   ]
  },
  {
   "cell_type": "markdown",
   "metadata": {},
   "source": [
    "### 3. 如何利用 list(...) 實現 a.tolist() 的效果？試著用程式實作。\n"
   ]
  },
  {
   "cell_type": "code",
   "execution_count": 77,
   "metadata": {},
   "outputs": [
    {
     "name": "stdout",
     "output_type": "stream",
     "text": [
      "a.tolist(): [4, 3, 2, 7, 4, 1]\n",
      "list(a): [4, 3, 2, 7, 4, 1]\n",
      " \n",
      "b.tolist(): [[2, 4, 9, 6], [4, 5, 8, 8], [2, 8, 8, 1]]\n",
      "list(b): [[2, 4, 9, 6], [4, 5, 8, 8], [2, 8, 8, 1]]\n",
      " \n",
      "c.tolist() [[[4, 5], [2, 2], [3, 6]], [[3, 2], [8, 5], [4, 8]]]\n",
      "list(c): [[[4, 5], [2, 2], [3, 6]], [[3, 2], [8, 5], [4, 8]]]\n",
      " \n",
      "list(a) -> a.tolist:\n",
      "[4, 3, 2, 7, 4, 1]\n",
      "list(b) -> b.tolist:\n",
      "[[2, 4, 9, 6], [4, 5, 8, 8], [2, 8, 8, 1]]\n",
      "list(c) -> c.tolist:\n",
      "[[[4, 5], [2, 2], [3, 6]], [[3, 2], [8, 5], [4, 8]]]\n"
     ]
    }
   ],
   "source": [
    "a = np.random.randint(10, size=6) \n",
    "print('a.tolist():',a.tolist())\n",
    "print('list(a):',list(a))\n",
    "\n",
    "\n",
    "b = np.random.randint(10, size=(3,4)) \n",
    "print(' ')\n",
    "print('b.tolist():',b.tolist())\n",
    "print('list(b):',list(b))\n",
    "\n",
    "\n",
    "c = np.random.randint(10, size=(2,3,2))\n",
    "print(' ')\n",
    "print('c.tolist()',c.tolist())\n",
    "print('list(c):',list(c))\n",
    "print(' ')\n",
    "\n",
    "def list(iterable):\n",
    "    return iterable.tolist()\n",
    "\n",
    "print('list(a) -> a.tolist:')\n",
    "print(list(a))\n",
    "print('list(b) -> b.tolist:')\n",
    "print(list(b))\n",
    "print('list(c) -> c.tolist:')\n",
    "print(list(c))"
   ]
  }
 ],
 "metadata": {
  "colab": {
   "name": "Day_023_HW.ipynb",
   "provenance": []
  },
  "kernelspec": {
   "display_name": "Python 3",
   "language": "python",
   "name": "python3"
  },
  "language_info": {
   "codemirror_mode": {
    "name": "ipython",
    "version": 3
   },
   "file_extension": ".py",
   "mimetype": "text/x-python",
   "name": "python",
   "nbconvert_exporter": "python",
   "pygments_lexer": "ipython3",
   "version": "3.8.5"
  }
 },
 "nbformat": 4,
 "nbformat_minor": 1
}
